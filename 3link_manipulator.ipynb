{
  "nbformat": 4,
  "nbformat_minor": 0,
  "metadata": {
    "colab": {
      "name": "3link_manipulator.ipynb",
      "provenance": [],
      "authorship_tag": "ABX9TyPSfXVBqijpctb4dSeJmBeS",
      "include_colab_link": true
    },
    "kernelspec": {
      "name": "python3",
      "display_name": "Python 3"
    },
    "language_info": {
      "name": "python"
    }
  },
  "cells": [
    {
      "cell_type": "markdown",
      "metadata": {
        "id": "view-in-github",
        "colab_type": "text"
      },
      "source": [
        "<a href=\"https://colab.research.google.com/github/vpavankalyan/Intro_Robotics/blob/main/3link_manipulator.ipynb\" target=\"_parent\"><img src=\"https://colab.research.google.com/assets/colab-badge.svg\" alt=\"Open In Colab\"/></a>"
      ]
    },
    {
      "cell_type": "code",
      "metadata": {
        "id": "jyYCBSTRXDI0"
      },
      "source": [
        "import pandas as pd\n",
        "import numpy as np\n",
        "import matplotlib.pyplot as plt\n",
        "import random\n",
        "import math\n",
        "\n",
        "from sklearn.model_selection import train_test_split\n",
        "from keras import models, layers, regularizers"
      ],
      "execution_count": 1,
      "outputs": []
    },
    {
      "cell_type": "code",
      "metadata": {
        "id": "3l8JA8bPYu-y"
      },
      "source": [
        "l1 = l2 = l3 = 7"
      ],
      "execution_count": 2,
      "outputs": []
    },
    {
      "cell_type": "code",
      "metadata": {
        "id": "UZf4f96kXFNz"
      },
      "source": [
        "def three_link_manipulator_dataset():\n",
        "    rows = []\n",
        "    for i in range(1, 100000):\n",
        "        theta1 = round(random.uniform(0, math.pi), 2)\n",
        "        theta2 = round(random.uniform(-math.pi, 0), 2)\n",
        "        theta3 = round(random.uniform(-math.pi/2, math.pi/2), 2)\n",
        "        \n",
        "        x = round(l1*math.cos(theta1)+l2*math.cos(theta1+theta2)+l3*math.cos(theta1+theta2+theta3), 2)\n",
        "        y = round(l1*math.sin(theta1)+l2*math.sin(theta1+theta2)+l3*math.sin(theta1+theta2+theta3), 2)\n",
        "        phi = round(math.degrees(theta1)+math.degrees(theta2)+math.degrees(theta3), 2)\n",
        "        \n",
        "        rows.append([theta1, theta2, theta3, x, y, phi])\n",
        "\n",
        "    df = pd.DataFrame(rows, columns=['theta1', 'theta2', 'theta3', 'x', 'y', 'phi'])\n",
        "    df.to_csv('three_link.csv', index=False)\n",
        "    \n",
        "three_link_manipulator_dataset()"
      ],
      "execution_count": 3,
      "outputs": []
    },
    {
      "cell_type": "code",
      "metadata": {
        "id": "X28MUUMZXJGl",
        "colab": {
          "base_uri": "https://localhost:8080/",
          "height": 195
        },
        "outputId": "d1bde099-cda1-4813-d1ad-849b4f206d33"
      },
      "source": [
        "\n",
        "three_link_data = pd.read_csv('three_link.csv')\n",
        "three_link_data.head(5)"
      ],
      "execution_count": 4,
      "outputs": [
        {
          "output_type": "execute_result",
          "data": {
            "text/html": [
              "<div>\n",
              "<style scoped>\n",
              "    .dataframe tbody tr th:only-of-type {\n",
              "        vertical-align: middle;\n",
              "    }\n",
              "\n",
              "    .dataframe tbody tr th {\n",
              "        vertical-align: top;\n",
              "    }\n",
              "\n",
              "    .dataframe thead th {\n",
              "        text-align: right;\n",
              "    }\n",
              "</style>\n",
              "<table border=\"1\" class=\"dataframe\">\n",
              "  <thead>\n",
              "    <tr style=\"text-align: right;\">\n",
              "      <th></th>\n",
              "      <th>theta1</th>\n",
              "      <th>theta2</th>\n",
              "      <th>theta3</th>\n",
              "      <th>x</th>\n",
              "      <th>y</th>\n",
              "      <th>phi</th>\n",
              "    </tr>\n",
              "  </thead>\n",
              "  <tbody>\n",
              "    <tr>\n",
              "      <th>0</th>\n",
              "      <td>1.52</td>\n",
              "      <td>-2.99</td>\n",
              "      <td>0.71</td>\n",
              "      <td>6.13</td>\n",
              "      <td>-4.80</td>\n",
              "      <td>-43.54</td>\n",
              "    </tr>\n",
              "    <tr>\n",
              "      <th>1</th>\n",
              "      <td>0.05</td>\n",
              "      <td>-2.01</td>\n",
              "      <td>0.29</td>\n",
              "      <td>3.64</td>\n",
              "      <td>-13.09</td>\n",
              "      <td>-95.68</td>\n",
              "    </tr>\n",
              "    <tr>\n",
              "      <th>2</th>\n",
              "      <td>2.88</td>\n",
              "      <td>-2.73</td>\n",
              "      <td>1.45</td>\n",
              "      <td>-0.04</td>\n",
              "      <td>9.85</td>\n",
              "      <td>91.67</td>\n",
              "    </tr>\n",
              "    <tr>\n",
              "      <th>3</th>\n",
              "      <td>0.68</td>\n",
              "      <td>-2.12</td>\n",
              "      <td>0.75</td>\n",
              "      <td>11.75</td>\n",
              "      <td>-6.99</td>\n",
              "      <td>-39.53</td>\n",
              "    </tr>\n",
              "    <tr>\n",
              "      <th>4</th>\n",
              "      <td>1.07</td>\n",
              "      <td>-1.66</td>\n",
              "      <td>-1.55</td>\n",
              "      <td>5.40</td>\n",
              "      <td>-3.65</td>\n",
              "      <td>-122.61</td>\n",
              "    </tr>\n",
              "  </tbody>\n",
              "</table>\n",
              "</div>"
            ],
            "text/plain": [
              "   theta1  theta2  theta3      x      y     phi\n",
              "0    1.52   -2.99    0.71   6.13  -4.80  -43.54\n",
              "1    0.05   -2.01    0.29   3.64 -13.09  -95.68\n",
              "2    2.88   -2.73    1.45  -0.04   9.85   91.67\n",
              "3    0.68   -2.12    0.75  11.75  -6.99  -39.53\n",
              "4    1.07   -1.66   -1.55   5.40  -3.65 -122.61"
            ]
          },
          "metadata": {
            "tags": []
          },
          "execution_count": 4
        }
      ]
    },
    {
      "cell_type": "code",
      "metadata": {
        "id": "u7s8eZO6XKZl",
        "colab": {
          "base_uri": "https://localhost:8080/",
          "height": 265
        },
        "outputId": "9035955b-835d-4ddd-a726-4df256526c9c"
      },
      "source": [
        "plt.scatter(three_link_data['x'], three_link_data['y'])\n",
        "plt.show()"
      ],
      "execution_count": 5,
      "outputs": [
        {
          "output_type": "display_data",
          "data": {
            "image/png": "[encoded data removed]",
            "text/plain": [
              "<Figure size 432x288 with 1 Axes>"
            ]
          },
          "metadata": {
            "tags": [],
            "needs_background": "light"
          }
        }
      ]
    },
    {
      "cell_type": "code",
      "metadata": {
        "id": "TylfDt_gXQC3"
      },
      "source": [
        "X = three_link_data[['x', 'y', 'phi']]\n",
        "y = three_link_data[['theta1', 'theta2', 'theta3']]\n",
        "train_X, test_X, train_y, test_y = train_test_split(X, y, test_size=0.1)"
      ],
      "execution_count": 6,
      "outputs": []
    },
    {
      "cell_type": "code",
      "metadata": {
        "id": "KOUz93zNXQ5u",
        "colab": {
          "base_uri": "https://localhost:8080/"
        },
        "outputId": "433f9b5d-43c0-4c6a-d191-1374d8d61251"
      },
      "source": [
        "model = models.Sequential()\n",
        "model.add(layers.Dense(units=3, input_dim=3, kernel_initializer='uniform'))\n",
        "model.add(layers.Dense(units=100, kernel_initializer='uniform', activation='relu'))\n",
        "model.add(layers.Dense(units=100, kernel_initializer='uniform', activation='relu'))\n",
        "model.add(layers.Dense(units=3, kernel_initializer = 'uniform', activation='linear'))\n",
        "\n",
        "model.summary()"
      ],
      "execution_count": 7,
      "outputs": [
        {
          "output_type": "stream",
          "text": [
            "Model: \"sequential\"\n",
            "_________________________________________________________________\n",
            "Layer (type)                 Output Shape              Param #   \n",
            "=================================================================\n",
            "dense (Dense)                (None, 3)                 12        \n",
            "_________________________________________________________________\n",
            "dense_1 (Dense)              (None, 100)               400       \n",
            "_________________________________________________________________\n",
            "dense_2 (Dense)              (None, 100)               10100     \n",
            "_________________________________________________________________\n",
            "dense_3 (Dense)              (None, 3)                 303       \n",
            "=================================================================\n",
            "Total params: 10,815\n",
            "Trainable params: 10,815\n",
            "Non-trainable params: 0\n",
            "_________________________________________________________________\n"
          ],
          "name": "stdout"
        }
      ]
    },
    {
      "cell_type": "code",
      "metadata": {
        "id": "seF69N60XT7r"
      },
      "source": [
        "model.compile(optimizer='adam', loss='mean_squared_error', metrics=['accuracy'])"
      ],
      "execution_count": 8,
      "outputs": []
    },
    {
      "cell_type": "code",
      "metadata": {
        "id": "hqCDNiMPXZq6",
        "colab": {
          "base_uri": "https://localhost:8080/"
        },
        "outputId": "6c14e9e5-8ef5-4828-b8b9-47e717a15049"
      },
      "source": [
        "history = model.fit(train_X, train_y, epochs=30, validation_split=0.1, shuffle=True)"
      ],
      "execution_count": 9,
      "outputs": [
        {
          "output_type": "stream",
          "text": [
            "Epoch 1/30\n",
            "2532/2532 [==============================] - 6s 2ms/step - loss: 0.4245 - accuracy: 0.9041 - val_loss: 0.0378 - val_accuracy: 0.9634\n",
            "Epoch 2/30\n",
            "2532/2532 [==============================] - 4s 2ms/step - loss: 0.0367 - accuracy: 0.9665 - val_loss: 0.0239 - val_accuracy: 0.9696\n",
            "Epoch 3/30\n",
            "2532/2532 [==============================] - 4s 2ms/step - loss: 0.0278 - accuracy: 0.9709 - val_loss: 0.0212 - val_accuracy: 0.9740\n",
            "Epoch 4/30\n",
            "2532/2532 [==============================] - 4s 2ms/step - loss: 0.0233 - accuracy: 0.9731 - val_loss: 0.0172 - val_accuracy: 0.9757\n",
            "Epoch 5/30\n",
            "2532/2532 [==============================] - 4s 2ms/step - loss: 0.0207 - accuracy: 0.9743 - val_loss: 0.0223 - val_accuracy: 0.9769\n",
            "Epoch 6/30\n",
            "2532/2532 [==============================] - 4s 2ms/step - loss: 0.0184 - accuracy: 0.9788 - val_loss: 0.0224 - val_accuracy: 0.9818\n",
            "Epoch 7/30\n",
            "2532/2532 [==============================] - 4s 2ms/step - loss: 0.0177 - accuracy: 0.9790 - val_loss: 0.0136 - val_accuracy: 0.9823\n",
            "Epoch 8/30\n",
            "2532/2532 [==============================] - 4s 2ms/step - loss: 0.0162 - accuracy: 0.9801 - val_loss: 0.0189 - val_accuracy: 0.9741\n",
            "Epoch 9/30\n",
            "2532/2532 [==============================] - 5s 2ms/step - loss: 0.0157 - accuracy: 0.9808 - val_loss: 0.0162 - val_accuracy: 0.9792\n",
            "Epoch 10/30\n",
            "2532/2532 [==============================] - 5s 2ms/step - loss: 0.0147 - accuracy: 0.9819 - val_loss: 0.0112 - val_accuracy: 0.9820\n",
            "Epoch 11/30\n",
            "2532/2532 [==============================] - 5s 2ms/step - loss: 0.0149 - accuracy: 0.9818 - val_loss: 0.0173 - val_accuracy: 0.9806\n",
            "Epoch 12/30\n",
            "2532/2532 [==============================] - 5s 2ms/step - loss: 0.0143 - accuracy: 0.9823 - val_loss: 0.0114 - val_accuracy: 0.9858\n",
            "Epoch 13/30\n",
            "2532/2532 [==============================] - 5s 2ms/step - loss: 0.0143 - accuracy: 0.9818 - val_loss: 0.0180 - val_accuracy: 0.9826\n",
            "Epoch 14/30\n",
            "2532/2532 [==============================] - 5s 2ms/step - loss: 0.0140 - accuracy: 0.9829 - val_loss: 0.0211 - val_accuracy: 0.9861\n",
            "Epoch 15/30\n",
            "2532/2532 [==============================] - 5s 2ms/step - loss: 0.0140 - accuracy: 0.9838 - val_loss: 0.0119 - val_accuracy: 0.9826\n",
            "Epoch 16/30\n",
            "2532/2532 [==============================] - 5s 2ms/step - loss: 0.0126 - accuracy: 0.9846 - val_loss: 0.0095 - val_accuracy: 0.9867\n",
            "Epoch 17/30\n",
            "2532/2532 [==============================] - 5s 2ms/step - loss: 0.0126 - accuracy: 0.9844 - val_loss: 0.0148 - val_accuracy: 0.9791\n",
            "Epoch 18/30\n",
            "2532/2532 [==============================] - 5s 2ms/step - loss: 0.0127 - accuracy: 0.9847 - val_loss: 0.0110 - val_accuracy: 0.9863\n",
            "Epoch 19/30\n",
            "2532/2532 [==============================] - 4s 2ms/step - loss: 0.0119 - accuracy: 0.9853 - val_loss: 0.0093 - val_accuracy: 0.9850\n",
            "Epoch 20/30\n",
            "2532/2532 [==============================] - 4s 2ms/step - loss: 0.0125 - accuracy: 0.9850 - val_loss: 0.0152 - val_accuracy: 0.9830\n",
            "Epoch 21/30\n",
            "2532/2532 [==============================] - 5s 2ms/step - loss: 0.0124 - accuracy: 0.9842 - val_loss: 0.0105 - val_accuracy: 0.9879\n",
            "Epoch 22/30\n",
            "2532/2532 [==============================] - 5s 2ms/step - loss: 0.0115 - accuracy: 0.9858 - val_loss: 0.0106 - val_accuracy: 0.9872\n",
            "Epoch 23/30\n",
            "2532/2532 [==============================] - 5s 2ms/step - loss: 0.0111 - accuracy: 0.9854 - val_loss: 0.0102 - val_accuracy: 0.9866\n",
            "Epoch 24/30\n",
            "2532/2532 [==============================] - 5s 2ms/step - loss: 0.0118 - accuracy: 0.9859 - val_loss: 0.0087 - val_accuracy: 0.9900\n",
            "Epoch 25/30\n",
            "2532/2532 [==============================] - 4s 2ms/step - loss: 0.0113 - accuracy: 0.9862 - val_loss: 0.0075 - val_accuracy: 0.9872\n",
            "Epoch 26/30\n",
            "2532/2532 [==============================] - 5s 2ms/step - loss: 0.0111 - accuracy: 0.9867 - val_loss: 0.0126 - val_accuracy: 0.9802\n",
            "Epoch 27/30\n",
            "2532/2532 [==============================] - 5s 2ms/step - loss: 0.0112 - accuracy: 0.9861 - val_loss: 0.0074 - val_accuracy: 0.9860\n",
            "Epoch 28/30\n",
            "2532/2532 [==============================] - 5s 2ms/step - loss: 0.0102 - accuracy: 0.9862 - val_loss: 0.0109 - val_accuracy: 0.9826\n",
            "Epoch 29/30\n",
            "2532/2532 [==============================] - 4s 2ms/step - loss: 0.0104 - accuracy: 0.9862 - val_loss: 0.0107 - val_accuracy: 0.9876\n",
            "Epoch 30/30\n",
            "2532/2532 [==============================] - 4s 2ms/step - loss: 0.0099 - accuracy: 0.9857 - val_loss: 0.0187 - val_accuracy: 0.9764\n"
          ],
          "name": "stdout"
        }
      ]
    },
    {
      "cell_type": "code",
      "metadata": {
        "id": "GHMD33vrXbkD",
        "colab": {
          "base_uri": "https://localhost:8080/",
          "height": 295
        },
        "outputId": "b696df7b-8e42-4fb6-834b-0d57c0aa01fb"
      },
      "source": [
        "plt.plot(history.history['accuracy'])\n",
        "plt.plot(history.history['val_accuracy'])\n",
        "plt.title('model accuracy')\n",
        "plt.ylabel('accuracy')\n",
        "plt.xlabel('epoch')\n",
        "plt.legend(['train', 'val'], loc='upper left')\n",
        "plt.show()"
      ],
      "execution_count": 10,
      "outputs": [
        {
          "output_type": "display_data",
          "data": {
            "image/png": "[encoded data removed]",
            "text/plain": [
              "<Figure size 432x288 with 1 Axes>"
            ]
          },
          "metadata": {
            "tags": [],
            "needs_background": "light"
          }
        }
      ]
    },
    {
      "cell_type": "code",
      "metadata": {
        "id": "CLiavoFVXfgU",
        "colab": {
          "base_uri": "https://localhost:8080/",
          "height": 295
        },
        "outputId": "d8b7e420-e263-4736-ddbd-02b797123622"
      },
      "source": [
        "plt.plot(history.history['loss'])\n",
        "plt.plot(history.history['val_loss'])\n",
        "plt.title('model loss')\n",
        "plt.ylabel('loss')\n",
        "plt.xlabel('epoch')\n",
        "plt.legend(['train', 'val'], loc='upper left')\n",
        "plt.show()"
      ],
      "execution_count": 11,
      "outputs": [
        {
          "output_type": "display_data",
          "data": {
            "image/png": "[encoded data removed]",
            "text/plain": [
              "<Figure size 432x288 with 1 Axes>"
            ]
          },
          "metadata": {
            "tags": [],
            "needs_background": "light"
          }
        }
      ]
    },
    {
      "cell_type": "code",
      "metadata": {
        "id": "EmYDmYBjXl0q",
        "colab": {
          "base_uri": "https://localhost:8080/"
        },
        "outputId": "8bf8ebb7-18cd-4e6e-f887-3d600d1c92d7"
      },
      "source": [
        "test_loss, test_acc = model.evaluate(test_X, test_y)\n",
        "\n",
        "print('\\nTesting Loss = ', test_loss)\n",
        "print('Testing Accuracy = ', test_acc)"
      ],
      "execution_count": 12,
      "outputs": [
        {
          "output_type": "stream",
          "text": [
            "313/313 [==============================] - 0s 1ms/step - loss: 0.0197 - accuracy: 0.9775\n",
            "\n",
            "Testing Loss =  0.01965341344475746\n",
            "Testing Accuracy =  0.9775000214576721\n"
          ],
          "name": "stdout"
        }
      ]
    },
    {
      "cell_type": "code",
      "metadata": {
        "id": "2CIWRLujX4Sv"
      },
      "source": [
        "def iiitm_dataset():\n",
        "    rows = []\n",
        "\n",
        "    # for I\n",
        "    arr = np.linspace(5, 7, 100)\n",
        "    for y in arr:\n",
        "        x = 6\n",
        "        theta = math.degrees(math.atan(y/x))\n",
        "        rows.append([x, y, theta])\n",
        "\n",
        "    # for I\n",
        "    arr = np.linspace(5, 7, 100)\n",
        "    for y in arr:\n",
        "        x = 7\n",
        "        theta = math.degrees(math.atan(y/x))\n",
        "        rows.append([x, y, theta])\n",
        "\n",
        "    # for I\n",
        "    arr = np.linspace(5, 7, 100)\n",
        "    for y in arr:\n",
        "        x = 8\n",
        "        theta = math.degrees(math.atan(y/x))\n",
        "        rows.append([x, y, theta])\n",
        "\n",
        "    # for T\n",
        "    arr = np.linspace(8.5, 10.5, 100)\n",
        "    for x in arr:\n",
        "        y = 7\n",
        "        theta = math.degrees(math.atan(y/x))\n",
        "        rows.append([x, y, theta])\n",
        "\n",
        "    arr = np.linspace(5, 7, 100)\n",
        "    for y in arr:\n",
        "        x = 9.5\n",
        "        theta = math.degrees(math.atan(y/x))\n",
        "        rows.append([x, y, theta])\n",
        "\n",
        "    # for M\n",
        "    arr = np.linspace(5, 7, 100)\n",
        "    for y in arr:\n",
        "        x = 11\n",
        "        theta = math.degrees(math.atan(y/x))\n",
        "        rows.append([x, y, theta])\n",
        "\n",
        "    arr = np.linspace(5, 7, 100)\n",
        "    for y in arr:\n",
        "        x = ((-y)+29)/2\n",
        "        theta = math.degrees(math.atan(y/x))\n",
        "        rows.append([x, y, theta])\n",
        "\n",
        "    arr = np.linspace(5, 7, 100)\n",
        "    for y in arr:\n",
        "        x = ((y)+19)/2\n",
        "        theta = math.degrees(math.atan(y/x))\n",
        "        rows.append([x, y, theta])\n",
        "\n",
        "    arr = np.linspace(5, 7, 100)\n",
        "    for y in arr:\n",
        "        x = 13\n",
        "        theta = math.degrees(math.atan(y/x))\n",
        "        rows.append([x, y, theta])\n",
        "\n",
        "    df = pd.DataFrame(rows, columns=['x', 'y', 'theta'])\n",
        "    df.to_csv('iiitm.csv', index=False)\n",
        "    \n",
        "iiitm_dataset()"
      ],
      "execution_count": 13,
      "outputs": []
    },
    {
      "cell_type": "code",
      "metadata": {
        "id": "XtmrYPegX7z8"
      },
      "source": [
        "def three_link_forward_kinematics(theta1, theta2, theta3):\n",
        "    x = (np.cos(theta1)*l1)+(np.cos(theta1+theta2)*l2)+(np.cos(theta1+theta2+theta3)*l3)\n",
        "    y = (np.sin(theta1)*l1)+(np.sin(theta1+theta2)*l2)+(np.sin(theta1+theta2+theta3)*l3)\n",
        "\n",
        "    return x, y"
      ],
      "execution_count": 14,
      "outputs": []
    },
    {
      "cell_type": "code",
      "metadata": {
        "id": "gL8m2zflX98l"
      },
      "source": [
        "iiitm_data = pd.read_csv('iiitm.csv')\n",
        "iiitm_predictions = model.predict(iiitm_data.values)\n",
        "x_predictions, y_predictions = three_link_forward_kinematics(iiitm_predictions[:,0], iiitm_predictions[:,1], iiitm_predictions[:,2])"
      ],
      "execution_count": 15,
      "outputs": []
    },
    {
      "cell_type": "code",
      "metadata": {
        "id": "ST-57DexYAAA",
        "colab": {
          "base_uri": "https://localhost:8080/",
          "height": 763
        },
        "outputId": "4ae0b101-01b4-46f6-cbf7-377bcd395cc9"
      },
      "source": [
        "# Original\n",
        "plt.plot(iiitm_data['x'], iiitm_data['y'], 'go')\n",
        "plt.show()\n",
        "\n",
        "# Predicted\n",
        "plt.plot(x_predictions, y_predictions, 'bo')\n",
        "plt.show()\n",
        "\n",
        "# Original and Predicted\n",
        "plt.plot(iiitm_data['x'], iiitm_data['y'], 'go')\n",
        "plt.plot(x_predictions, y_predictions, 'bo')\n",
        "plt.show()"
      ],
      "execution_count": 16,
      "outputs": [
        {
          "output_type": "display_data",
          "data": {
            "image/png": "[encoded data removed]",
            "text/plain": [
              "<Figure size 432x288 with 1 Axes>"
            ]
          },
          "metadata": {
            "tags": [],
            "needs_background": "light"
          }
        },
        {
          "output_type": "display_data",
          "data": {
            "image/png": "[encoded data removed]",
            "text/plain": [
              "<Figure size 432x288 with 1 Axes>"
            ]
          },
          "metadata": {
            "tags": [],
            "needs_background": "light"
          }
        },
        {
          "output_type": "display_data",
          "data": {
            "image/png": "[encoded data removed]",
            "text/plain": [
              "<Figure size 432x288 with 1 Axes>"
            ]
          },
          "metadata": {
            "tags": [],
            "needs_background": "light"
          }
        }
      ]
    }
  ]
}